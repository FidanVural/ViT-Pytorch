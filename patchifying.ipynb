{
  "nbformat": 4,
  "nbformat_minor": 0,
  "metadata": {
    "colab": {
      "provenance": []
    },
    "kernelspec": {
      "name": "python3",
      "display_name": "Python 3"
    },
    "language_info": {
      "name": "python"
    }
  },
  "cells": [
    {
      "cell_type": "code",
      "source": [
        "import torch\n",
        "from torch.utils.data import DataLoader\n",
        "from torchvision.transforms import ToTensor\n",
        "from torchvision.datasets.mnist import MNIST\n",
        "\n",
        "import numpy as np\n",
        "import matplotlib.pyplot as plt"
      ],
      "metadata": {
        "id": "129Rg8TFuxYP"
      },
      "execution_count": 7,
      "outputs": []
    },
    {
      "cell_type": "code",
      "source": [
        "train_set = MNIST(root=\"datasets/\", train=True, download=True, transform=ToTensor())\n",
        "test_set = MNIST(root=\"datasets/\", train=False, download=True, transform=ToTensor())\n",
        "\n",
        "train_loader = DataLoader(train_set, batch_size=64, shuffle=True)\n",
        "test_loader = DataLoader(test_set, batch_size=64, shuffle=True)\n",
        "\n",
        "dataiter = iter(train_loader)\n",
        "images, labels = next(dataiter)\n",
        "\n",
        "plt.imshow(np.transpose(images[2].numpy(), (1, 2, 0)), cmap='gray')"
      ],
      "metadata": {
        "colab": {
          "base_uri": "https://localhost:8080/",
          "height": 447
        },
        "id": "WYAFatX4vY6E",
        "outputId": "7350d400-5398-4f8a-d229-5fb96bf827da"
      },
      "execution_count": 12,
      "outputs": [
        {
          "output_type": "execute_result",
          "data": {
            "text/plain": [
              "<matplotlib.image.AxesImage at 0x7f9328cb8610>"
            ]
          },
          "metadata": {},
          "execution_count": 12
        },
        {
          "output_type": "display_data",
          "data": {
            "text/plain": [
              "<Figure size 640x480 with 1 Axes>"
            ],
            "image/png": "[encoded data removed]"
          },
          "metadata": {}
        }
      ]
    },
    {
      "cell_type": "code",
      "execution_count": 13,
      "metadata": {
        "id": "r1NCN0DxuvSD"
      },
      "outputs": [],
      "source": [
        "def patchify(images, n_patches):\n",
        "    n, c, h, w = images.shape # (N, 1, 28, 28)\n",
        "\n",
        "    assert h == w # Patchify method is implemented for square images only\n",
        "\n",
        "    patches = torch.zeros(n, n_patches**2, h*w*c // n_patches**2) # new shape --> (n, 49, (28*28*1)/49) --> (n, 49, 16) --> her bir resim için 49 satırdan ve her bir satırın 16 uzunluğunda olduğu bir tensor.\n",
        "    patch_size = h // n_patches # 28 / 7 = 4 --> every patch size 4x4\n",
        "\n",
        "    for idx, image in enumerate(images):\n",
        "        for i in range(n_patches):\n",
        "            for j in range(n_patches):\n",
        "                patch = image[:, i*patch_size:(i+1)*patch_size, j*patch_size:(j+1)*patch_size]\n",
        "                patches[idx, i*n_patches + j] = patch.flatten()\n",
        "\n",
        "    return patches"
      ]
    },
    {
      "cell_type": "code",
      "source": [
        "patches = patchify(images, 7) # Burada patch boyutunu 7 belirledik."
      ],
      "metadata": {
        "id": "Q69SIUOXvP-Q"
      },
      "execution_count": 14,
      "outputs": []
    },
    {
      "cell_type": "code",
      "source": [
        "n = int(np.sqrt(patches.shape[1]))\n",
        "plt.figure(figsize=(4, 4))\n",
        "\n",
        "for i, patch in enumerate(patches[2]):\n",
        "    ax = plt.subplot(n, n, i + 1)\n",
        "    patch_img = torch.reshape(patch, (4, 4, 1))\n",
        "    plt.imshow(patch_img.numpy(), cmap='gray')\n",
        "    plt.axis(\"off\")"
      ],
      "metadata": {
        "colab": {
          "base_uri": "https://localhost:8080/",
          "height": 345
        },
        "id": "lyNjczyFu5xu",
        "outputId": "0d9d2511-41b1-4d6a-8a0a-8d946df0c6ab"
      },
      "execution_count": 15,
      "outputs": [
        {
          "output_type": "display_data",
          "data": {
            "text/plain": [
              "<Figure size 400x400 with 49 Axes>"
            ],
            "image/png": "[encoded data removed]"
          },
          "metadata": {}
        }
      ]
    },
    {
      "cell_type": "code",
      "source": [],
      "metadata": {
        "id": "A0JMIAMFvEd3"
      },
      "execution_count": null,
      "outputs": []
    }
  ]
}